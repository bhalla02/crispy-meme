{
 "cells": [
  {
   "cell_type": "markdown",
   "id": "7e4911e7-07b6-4e81-962e-6d14dd9a3e5f",
   "metadata": {},
   "source": [
    "Q1\n",
    "Artificial Intelligence (AI): Artificial Intelligence refers to the simulation of human intelligence in machines that are programmed to think and mimic human actions. An example of AI is virtual assistants like Siri or Alexa, which can understand natural language and perform tasks based on user input.\n",
    "\n",
    "A) Machine Learning (ML): Machine Learning is a subset of AI that involves the development of algorithms and statistical models that enable computers to perform tasks without explicit instructions, relying on patterns and inference instead. An example of machine learning is spam email filtering, where algorithms learn to differentiate between spam and non-spam emails based on patterns in the data.\n",
    "\n",
    "I) Deep Learning (DL): Deep Learning is a subset of machine learning that utilizes artificial neural networks with multiple layers (hence \"deep\") to learn and extract patterns from large volumes of data. An example of deep learning is image recognition technology used in applications like facial recognition or autonomous vehicles."
   ]
  },
  {
   "cell_type": "markdown",
   "id": "88ae693d-c2c2-4ccb-ba14-4c99fbd7f307",
   "metadata": {},
   "source": [
    "Q2\n",
    "Supervised learning is a type of machine learning where the algorithm is trained on a labeled dataset, meaning the input data is paired with the corresponding correct output. The algorithm learns to map inputs to outputs based on this labeled data.\n",
    "\n",
    "Examples of supervised learning include:\n",
    "\n",
    "Email spam detection\n",
    "Handwritten digit recognition\n",
    "Sentiment analysis\n",
    "Predicting house prices based on features like location, size, etc."
   ]
  },
  {
   "cell_type": "markdown",
   "id": "86895e4f-bf44-4aed-9744-76b5606ff037",
   "metadata": {},
   "source": [
    "Q3\n",
    "Unsupervised learning is a type of machine learning where the algorithm is trained on an unlabeled dataset, meaning the input data does not have corresponding output labels. The algorithm learns to find patterns or structures in the data on its own.\n",
    "\n",
    "Examples of unsupervised learning include:\n",
    "\n",
    "Clustering similar documents or articles\n",
    "Customer segmentation for marketing purposes\n",
    "Anomaly detection in network traffic\n",
    "Dimensionality reduction techniques like Principal Component Analysis (PCA)"
   ]
  },
  {
   "cell_type": "markdown",
   "id": "463bd2c9-be84-4952-84b5-4f3b038085d5",
   "metadata": {},
   "source": [
    "Q4\n",
    "AI (Artificial Intelligence): AI is the broader concept of machines being able to carry out tasks in a way that we would consider \"smart.\"\n",
    "\n",
    "ML (Machine Learning): ML is a subset of AI that focuses on the development of algorithms that allow computers to learn and improve from experience.\n",
    "\n",
    "DL (Deep Learning): DL is a subset of ML that involves artificial neural networks with multiple layers to learn and extract patterns from large volumes of data.\n",
    "\n",
    "DS (Data Science): Data Science is a multidisciplinary field that uses various techniques and algorithms to extract insights and knowledge from data, which includes but is not limited to machine learning and deep learning."
   ]
  },
  {
   "cell_type": "markdown",
   "id": "8a162e6b-03c5-483b-93b1-c4337aba00ba",
   "metadata": {},
   "source": [
    "Q5\n",
    "Supervised Learning: In supervised learning, the algorithm is trained on labeled data, where each input is paired with the corresponding output. The goal is to learn a mapping from inputs to outputs.\n",
    "Unsupervised Learning: In unsupervised learning, the algorithm is trained on unlabeled data, and it learns to find patterns or structures in the data without explicit guidance.\n",
    "Semi-supervised Learning: Semi-supervised learning is a combination of supervised and unsupervised learning. It involves training the model on a small amount of labeled data and a large amount of unlabeled data."
   ]
  },
  {
   "cell_type": "markdown",
   "id": "0b261e0e-d0f0-4030-ae15-f2dd7f833af7",
   "metadata": {},
   "source": [
    "Q6\n",
    "Train/Test Split: In machine learning, the dataset is divided into two subsets: the training set and the test set. The training set is used to train the model, while the test set is used to evaluate its performance. This split helps assess how well the model generalizes to new, unseen data.\n",
    "Validation Set: In addition to the train/test split, a validation set is sometimes used during the training process. The validation set is used to tune hyperparameters and assess the model's performance during training. It helps prevent overfitting by providing an independent dataset for model evaluation.\n",
    "The importance of each term:\n",
    "\n",
    "Training Set: Used to train the model's parameters, allowing it to learn from the data.\n",
    "Test Set: Used to evaluate the model's performance and assess its ability to generalize to new, unseen data.\n",
    "Validation Set: Used to tune model hyperparameters and prevent overfitting by providing an independent dataset for evaluation during training."
   ]
  },
  {
   "cell_type": "markdown",
   "id": "0ba44f07-3288-40f3-9ba1-8b3b57e54586",
   "metadata": {},
   "source": [
    "Q7\n",
    "Unsupervised learning can be used in anomaly detection by training models on normal (non-anomalous) data and then identifying instances that deviate significantly from this normal behavior. Techniques like clustering, density estimation, and dimensionality reduction can help uncover anomalies in the data without the need for labeled examples."
   ]
  },
  {
   "cell_type": "code",
   "execution_count": null,
   "id": "c8ab4ea6-d379-4828-999e-5b9a57354211",
   "metadata": {},
   "outputs": [],
   "source": []
  }
 ],
 "metadata": {
  "kernelspec": {
   "display_name": "Python 3 (ipykernel)",
   "language": "python",
   "name": "python3"
  },
  "language_info": {
   "codemirror_mode": {
    "name": "ipython",
    "version": 3
   },
   "file_extension": ".py",
   "mimetype": "text/x-python",
   "name": "python",
   "nbconvert_exporter": "python",
   "pygments_lexer": "ipython3",
   "version": "3.10.8"
  }
 },
 "nbformat": 4,
 "nbformat_minor": 5
}
